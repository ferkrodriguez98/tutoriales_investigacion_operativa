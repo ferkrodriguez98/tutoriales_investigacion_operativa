{
 "cells": [
  {
   "cell_type": "markdown",
   "metadata": {},
   "source": [
    "# Soluciones - Guía de Programación Lineal\n",
    "\n",
    "Este notebook lo pueden meter en google colab y sale andando."
   ]
  },
  {
   "cell_type": "code",
   "execution_count": 1,
   "metadata": {},
   "outputs": [],
   "source": [
    "!pip install picos numpy swiglpk ipykernel --quiet"
   ]
  },
  {
   "cell_type": "code",
   "execution_count": 2,
   "metadata": {},
   "outputs": [],
   "source": [
    "import picos\n",
    "import numpy as np"
   ]
  },
  {
   "cell_type": "markdown",
   "metadata": {},
   "source": [
    "## Ejercicio 1"
   ]
  },
  {
   "cell_type": "code",
   "execution_count": 3,
   "metadata": {},
   "outputs": [
    {
     "name": "stdout",
     "output_type": "stream",
     "text": [
      "x1 = 8.00, x2 = 28.00\n",
      "Z = 1160.00\n"
     ]
    }
   ],
   "source": [
    "P = picos.Problem()\n",
    "\n",
    "x = picos.RealVariable('x', 2)\n",
    "\n",
    "# Matriz de restricciones\n",
    "A = np.array([\n",
    "    [2, 3],  # mano de obra\n",
    "    [3, 2]   # materia prima\n",
    "])\n",
    "b = np.array([100, 80])\n",
    "c = np.array([40, 30])\n",
    "\n",
    "A = picos.Constant('A', A)\n",
    "b = picos.Constant('b', b)\n",
    "c = picos.Constant('c', c)\n",
    "\n",
    "P.set_objective('max', c | x)\n",
    "P.add_constraint(A * x <= b)\n",
    "P.add_constraint(x >= 0)\n",
    "\n",
    "P.solve(solver='glpk')\n",
    "print(f\"x1 = {x[0].value:.2f}, x2 = {x[1].value:.2f}\")\n",
    "print(f\"Z = {P.value:.2f}\")"
   ]
  },
  {
   "cell_type": "markdown",
   "metadata": {},
   "source": [
    "## Ejercicio 2"
   ]
  },
  {
   "cell_type": "code",
   "execution_count": 4,
   "metadata": {},
   "outputs": [
    {
     "name": "stdout",
     "output_type": "stream",
     "text": [
      "x1 = 4.71, x2 = 0.86\n",
      "Z = 21.43\n"
     ]
    }
   ],
   "source": [
    "P = picos.Problem()\n",
    "\n",
    "x = picos.RealVariable('x', 2)\n",
    "\n",
    "# Matriz de restricciones\n",
    "A = np.array([\n",
    "    [2, 3],  # vitamina A\n",
    "    [3, 1]   # vitamina B\n",
    "])\n",
    "b = np.array([12, 15])\n",
    "c = np.array([4, 3])\n",
    "\n",
    "A = picos.Constant('A', A)\n",
    "b = picos.Constant('b', b)\n",
    "c = picos.Constant('c', c)\n",
    "\n",
    "P.set_objective('min', c | x)\n",
    "P.add_constraint(A * x >= b)\n",
    "P.add_constraint(x >= 0)\n",
    "\n",
    "P.solve(solver='glpk')\n",
    "print(f\"x1 = {x[0].value:.2f}, x2 = {x[1].value:.2f}\")\n",
    "print(f\"Z = {P.value:.2f}\")"
   ]
  },
  {
   "cell_type": "markdown",
   "metadata": {},
   "source": [
    "## Ejercicio 3"
   ]
  },
  {
   "cell_type": "code",
   "execution_count": 5,
   "metadata": {},
   "outputs": [
    {
     "name": "stdout",
     "output_type": "stream",
     "text": [
      "x1 = 0.00, x2 = 20.00\n",
      "Z = 600.00\n"
     ]
    }
   ],
   "source": [
    "P = picos.Problem()\n",
    "\n",
    "x = picos.RealVariable('x', 2)\n",
    "\n",
    "# Matriz de restricciones\n",
    "A = np.array([\n",
    "    [2, 3],  # madera\n",
    "    [1, 2]   # trabajo\n",
    "])\n",
    "b = np.array([60, 40])\n",
    "c = np.array([20, 30])\n",
    "\n",
    "A = picos.Constant('A', A)\n",
    "b = picos.Constant('b', b)\n",
    "c = picos.Constant('c', c)\n",
    "\n",
    "P.set_objective('max', c | x)\n",
    "P.add_constraint(A * x <= b)\n",
    "P.add_constraint(x >= 0)\n",
    "\n",
    "P.solve(solver='glpk')\n",
    "print(f\"x1 = {x[0].value:.2f}, x2 = {x[1].value:.2f}\")\n",
    "print(f\"Z = {P.value:.2f}\")"
   ]
  },
  {
   "cell_type": "markdown",
   "metadata": {},
   "source": [
    "## Ejercicio 4"
   ]
  },
  {
   "cell_type": "code",
   "execution_count": 6,
   "metadata": {},
   "outputs": [
    {
     "name": "stdout",
     "output_type": "stream",
     "text": [
      "x1 = 0.00, x2 = 3.33\n",
      "Z = 400.00\n"
     ]
    }
   ],
   "source": [
    "P = picos.Problem()\n",
    "\n",
    "x = picos.RealVariable('x', 2)\n",
    "\n",
    "# Restricciones\n",
    "P.add_constraint(10*x[0] + 15*x[1] >= 50)  # toneladas\n",
    "P.add_constraint(x[0] + x[1] <= 8)         # horas\n",
    "P.add_constraint(x >= 0)\n",
    "\n",
    "# Funcion objetivo\n",
    "P.set_objective('min', 100*x[0] + 120*x[1])\n",
    "\n",
    "P.solve(solver='glpk')\n",
    "print(f\"x1 = {x[0].value:.2f}, x2 = {x[1].value:.2f}\")\n",
    "print(f\"Z = {P.value:.2f}\")"
   ]
  },
  {
   "cell_type": "markdown",
   "metadata": {},
   "source": [
    "## Ejercicio 5"
   ]
  },
  {
   "cell_type": "code",
   "execution_count": 7,
   "metadata": {},
   "outputs": [
    {
     "name": "stdout",
     "output_type": "stream",
     "text": [
      "x1 = 21.25, x2 = 7.50\n",
      "Z = 222.50\n"
     ]
    }
   ],
   "source": [
    "P = picos.Problem()\n",
    "\n",
    "x = picos.RealVariable('x', 2)\n",
    "\n",
    "# Matriz de restricciones\n",
    "A = np.array([\n",
    "    [4, 2],  # departamento A\n",
    "    [2, 5]   # departamento B\n",
    "])\n",
    "b = np.array([100, 80])\n",
    "c = np.array([8, 7])\n",
    "\n",
    "A = picos.Constant('A', A)\n",
    "b = picos.Constant('b', b)\n",
    "c = picos.Constant('c', c)\n",
    "\n",
    "P.set_objective('max', c | x)\n",
    "P.add_constraint(A * x <= b)\n",
    "P.add_constraint(x >= 0)\n",
    "\n",
    "P.solve(solver='glpk')\n",
    "print(f\"x1 = {x[0].value:.2f}, x2 = {x[1].value:.2f}\")\n",
    "print(f\"Z = {P.value:.2f}\")"
   ]
  },
  {
   "cell_type": "markdown",
   "metadata": {},
   "source": [
    "## Ejercicio 6"
   ]
  },
  {
   "cell_type": "code",
   "execution_count": 8,
   "metadata": {},
   "outputs": [
    {
     "name": "stdout",
     "output_type": "stream",
     "text": [
      "x1 = 70.00, x2 = 40.00, x3 = 0.00\n",
      "Z = 10200.00\n"
     ]
    }
   ],
   "source": [
    "P = picos.Problem()\n",
    "\n",
    "x = picos.RealVariable('x', 3)\n",
    "\n",
    "# Matriz de restricciones\n",
    "A = np.array([\n",
    "    [4, 3, 5],  # mano de obra\n",
    "    [2, 4, 3],  # material\n",
    "    [3, 2, 4]   # tiempo maquina\n",
    "])\n",
    "b = np.array([400, 300, 350])\n",
    "c = np.array([100, 80, 120])\n",
    "\n",
    "A = picos.Constant('A', A)\n",
    "b = picos.Constant('b', b)\n",
    "c = picos.Constant('c', c)\n",
    "\n",
    "P.set_objective('max', c | x)\n",
    "P.add_constraint(A * x <= b)\n",
    "P.add_constraint(x >= 0)\n",
    "\n",
    "P.solve(solver='glpk')\n",
    "print(f\"x1 = {x[0].value:.2f}, x2 = {x[1].value:.2f}, x3 = {x[2].value:.2f}\")\n",
    "print(f\"Z = {P.value:.2f}\")"
   ]
  },
  {
   "cell_type": "markdown",
   "metadata": {},
   "source": [
    "## Ejercicio 7"
   ]
  },
  {
   "cell_type": "code",
   "execution_count": 9,
   "metadata": {},
   "outputs": [
    {
     "name": "stdout",
     "output_type": "stream",
     "text": [
      "x1 = 20000.00, x2 = 50000.00, x3 = 30000.00\n",
      "Z = 10600.00\n"
     ]
    }
   ],
   "source": [
    "P = picos.Problem()\n",
    "\n",
    "x = picos.RealVariable('x', 3)\n",
    "\n",
    "# Restricciones\n",
    "P.add_constraint(x[0] + x[1] + x[2] == 100000)  # total inversion\n",
    "P.add_constraint(x[0] >= 20000)                  # minimo A\n",
    "P.add_constraint(x[1] <= 50000)                  # maximo B\n",
    "P.add_constraint(x[2] >= 0.3*(x[0] + x[1] + x[2]))  # minimo C\n",
    "P.add_constraint(x >= 0)\n",
    "\n",
    "# Funcion objetivo\n",
    "P.set_objective('max', 0.08*x[0] + 0.12*x[1] + 0.10*x[2])\n",
    "\n",
    "P.solve(solver='glpk')\n",
    "print(f\"x1 = {x[0].value:.2f}, x2 = {x[1].value:.2f}, x3 = {x[2].value:.2f}\")\n",
    "print(f\"Z = {P.value:.2f}\")"
   ]
  },
  {
   "cell_type": "markdown",
   "metadata": {},
   "source": [
    "## Ejercicio 8"
   ]
  },
  {
   "cell_type": "code",
   "execution_count": 10,
   "metadata": {},
   "outputs": [
    {
     "name": "stdout",
     "output_type": "stream",
     "text": [
      "x1 = 56.67, x2 = 30.00, x3 = 28.33\n",
      "Z = 17983.33\n"
     ]
    }
   ],
   "source": [
    "P = picos.Problem()\n",
    "\n",
    "x = picos.RealVariable('x', 3)\n",
    "\n",
    "# Matriz de restricciones recursos\n",
    "A = np.array([\n",
    "    [3, 1, 2],  # madera\n",
    "    [4, 2, 3],  # carpinteria\n",
    "    [2, 1, 2]   # acabado\n",
    "])\n",
    "b = np.array([300, 400, 200])\n",
    "\n",
    "A = picos.Constant('A', A)\n",
    "b = picos.Constant('b', b)\n",
    "\n",
    "P.add_constraint(A * x <= b)\n",
    "P.add_constraint(x[1] >= 30)  # demanda minima sillas\n",
    "P.add_constraint(x[2] >= 0.5*x[0])  # relacion estantes-mesas\n",
    "P.add_constraint(x >= 0)\n",
    "\n",
    "# Funcion objetivo\n",
    "P.set_objective('max', 200*x[0] + 80*x[1] + 150*x[2])\n",
    "\n",
    "P.solve(solver='glpk')\n",
    "print(f\"x1 = {x[0].value:.2f}, x2 = {x[1].value:.2f}, x3 = {x[2].value:.2f}\")\n",
    "print(f\"Z = {P.value:.2f}\")"
   ]
  },
  {
   "cell_type": "markdown",
   "metadata": {},
   "source": [
    "## Ejercicio 9"
   ]
  },
  {
   "cell_type": "code",
   "execution_count": 11,
   "metadata": {},
   "outputs": [
    {
     "name": "stdout",
     "output_type": "stream",
     "text": [
      "Solucion optima:\n",
      "x[1,2] = 200.00\n",
      "x[1,3] = 200.00\n",
      "x[2,1] = 200.00\n",
      "x[2,4] = 100.00\n",
      "x[3,1] = 100.00\n",
      "x[3,3] = 200.00\n",
      "Costo total = 6700.00\n"
     ]
    }
   ],
   "source": [
    "P = picos.Problem()\n",
    "\n",
    "# Matriz de costos\n",
    "C = np.array([\n",
    "    [10, 8, 6, 9],\n",
    "    [7, 11, 8, 5],\n",
    "    [6, 9, 7, 12]\n",
    "])\n",
    "\n",
    "# Variables\n",
    "x = picos.RealVariable('x', (3,4))\n",
    "\n",
    "# Restricciones de capacidad de almacenes\n",
    "for i in range(3):\n",
    "    P.add_constraint(picos.sum(x[i,j] for j in range(4)) <= [400,300,300][i])\n",
    "\n",
    "# Restricciones de demanda de tiendas\n",
    "for j in range(4):\n",
    "    P.add_constraint(picos.sum(x[i,j] for i in range(3)) == [300,200,400,100][j])\n",
    "\n",
    "# No negatividad\n",
    "P.add_constraint(x >= 0)\n",
    "\n",
    "# Funcion objetivo\n",
    "P.set_objective('min', picos.sum(C[i,j]*x[i,j] for i in range(3) for j in range(4)))\n",
    "\n",
    "P.solve(solver='glpk')\n",
    "\n",
    "print(\"Solucion optima:\")\n",
    "for i in range(3):\n",
    "    for j in range(4):\n",
    "        if x[i,j].value > 0.1:  # Evitar mostrar valores muy cercanos a cero\n",
    "            print(f\"x[{i+1},{j+1}] = {x[i,j].value:.2f}\")\n",
    "print(f\"Costo total = {P.value:.2f}\")"
   ]
  },
  {
   "cell_type": "markdown",
   "metadata": {},
   "source": [
    "## Ejercicio 10"
   ]
  },
  {
   "cell_type": "code",
   "execution_count": 12,
   "metadata": {},
   "outputs": [
    {
     "name": "stdout",
     "output_type": "stream",
     "text": [
      "x1 = 16250.00, x2 = 0.00, x3 = 6250.00\n",
      "Z = 1475000.00\n"
     ]
    }
   ],
   "source": [
    "P = picos.Problem()\n",
    "\n",
    "x = picos.RealVariable('x', 3)\n",
    "\n",
    "# Matriz de restricciones\n",
    "A = np.array([\n",
    "    [0.5, 0.4, 0.3],  # gasolina regular\n",
    "    [0.3, 0.4, 0.5]   # gasolina premium\n",
    "])\n",
    "b = np.array([10000, 8000])\n",
    "c = np.array([60, 70, 80])\n",
    "\n",
    "A = picos.Constant('A', A)\n",
    "b = picos.Constant('b', b)\n",
    "c = picos.Constant('c', c)\n",
    "\n",
    "P.add_constraint(A * x >= b)\n",
    "P.add_constraint(picos.sum(x) <= 30000)  # capacidad\n",
    "P.add_constraint(x >= 0)\n",
    "\n",
    "P.set_objective('min', c | x)\n",
    "\n",
    "P.solve(solver='glpk')\n",
    "print(f\"x1 = {x[0].value:.2f}, x2 = {x[1].value:.2f}, x3 = {x[2].value:.2f}\")\n",
    "print(f\"Z = {P.value:.2f}\")"
   ]
  },
  {
   "cell_type": "markdown",
   "metadata": {},
   "source": [
    "## Ejercicio 11"
   ]
  },
  {
   "cell_type": "code",
   "execution_count": 13,
   "metadata": {},
   "outputs": [
    {
     "name": "stdout",
     "output_type": "stream",
     "text": [
      "x1 = 6.0, x2 = 1.5\n",
      "Z = 1215.0\n"
     ]
    }
   ],
   "source": [
    "P = picos.Problem()\n",
    "\n",
    "x = picos.RealVariable('x', 2)\n",
    "\n",
    "# Restricciones\n",
    "P.add_constraint(x[0] <= 6)  # capacidad Doug\n",
    "P.add_constraint(x[1] <= 4)  # capacidad Linda\n",
    "P.add_constraint(6*x[0] + 8*x[1] <= 48)  # capacidad Bob\n",
    "P.add_constraint(x >= 0)\n",
    "\n",
    "# Funcion objetivo\n",
    "P.set_objective('max', 180*x[0] + 90*x[1])\n",
    "\n",
    "P.solve(solver='glpk')\n",
    "print(f\"x1 = {x[0].value}, x2 = {x[1].value}\")\n",
    "print(f\"Z = {P.value}\")"
   ]
  },
  {
   "cell_type": "markdown",
   "metadata": {},
   "source": [
    "## Ejercicio 12"
   ]
  },
  {
   "cell_type": "code",
   "execution_count": 14,
   "metadata": {},
   "outputs": [
    {
     "name": "stdout",
     "output_type": "stream",
     "text": [
      "Solucion optima:\n",
      "x[1,1] = 3.0\n",
      "x[1,2] = 2.0\n",
      "x[2,3] = 4.0\n",
      "x[2,4] = 2.0\n",
      "x[3,2] = 3.0\n",
      "x[3,4] = 3.0\n",
      "x[3,5] = 1.0\n",
      "x[4,5] = 4.0\n",
      "x[5,5] = 1.0\n",
      "x[5,6] = 2.0\n",
      "Costo total = 276.0\n"
     ]
    }
   ],
   "source": [
    "P = picos.Problem()\n",
    "\n",
    "# Matriz de costos (M = 1000)\n",
    "C = np.array([\n",
    "    [13, 10, 22, 29, 18, 0],\n",
    "    [14, 13, 16, 21, 1000, 0],\n",
    "    [3, 0, 1000, 11, 6, 0],\n",
    "    [18, 9, 19, 23, 11, 0],\n",
    "    [30, 24, 34, 36, 28, 0]\n",
    "])\n",
    "\n",
    "# Ofertas y demandas\n",
    "oferta = [5, 6, 7, 4, 3]\n",
    "demanda = [3, 5, 4, 5, 6, 2]\n",
    "\n",
    "# Variables\n",
    "x = picos.RealVariable('x', (5,6))\n",
    "\n",
    "# Restricciones de oferta\n",
    "for i in range(5):\n",
    "    P.add_constraint(picos.sum(x[i,j] for j in range(6)) <= oferta[i])\n",
    "\n",
    "# Restricciones de demanda\n",
    "for j in range(6):\n",
    "    P.add_constraint(picos.sum(x[i,j] for i in range(5)) == demanda[j])\n",
    "\n",
    "# No negatividad\n",
    "P.add_constraint(x >= 0)\n",
    "\n",
    "# Funcion objetivo\n",
    "P.set_objective('min', picos.sum(C[i,j]*x[i,j] for i in range(5) for j in range(6)))\n",
    "\n",
    "P.solve(solver='glpk')\n",
    "\n",
    "print(\"Solucion optima:\")\n",
    "for i in range(5):\n",
    "    for j in range(6):\n",
    "        if x[i,j].value > 0.1:\n",
    "            print(f\"x[{i+1},{j+1}] = {x[i,j].value}\")\n",
    "print(f\"Costo total = {P.value}\")"
   ]
  },
  {
   "cell_type": "markdown",
   "metadata": {},
   "source": [
    "## Ejercicio 13"
   ]
  },
  {
   "cell_type": "code",
   "execution_count": 15,
   "metadata": {},
   "outputs": [
    {
     "name": "stdout",
     "output_type": "stream",
     "text": [
      "Solucion optima:\n",
      "x[1,1] = 10.0\n",
      "x[1,3] = 8.0\n",
      "x[2,2] = 5.0\n",
      "x[2,3] = 2.0\n",
      "Costo total = 11450.0\n"
     ]
    }
   ],
   "source": [
    "P = picos.Problem()\n",
    "\n",
    "# Costos de transporte + precio por tonelada\n",
    "C = np.array([\n",
    "    [100+300, 190+300, 160+300],  # Norte\n",
    "    [180+420, 110+420, 140+420]   # Sur\n",
    "])\n",
    "\n",
    "# Capacidades y demandas\n",
    "capacidad = [18, 14]\n",
    "demanda = [10, 5, 10]\n",
    "\n",
    "# Variables\n",
    "x = picos.RealVariable('x', (2,3))\n",
    "\n",
    "# Restricciones de capacidad\n",
    "for i in range(2):\n",
    "    P.add_constraint(picos.sum(x[i,j] for j in range(3)) <= capacidad[i])\n",
    "\n",
    "# Restricciones de demanda\n",
    "for j in range(3):\n",
    "    P.add_constraint(picos.sum(x[i,j] for i in range(2)) == demanda[j])\n",
    "\n",
    "# No negatividad\n",
    "P.add_constraint(x >= 0)\n",
    "\n",
    "# Funcion objetivo\n",
    "P.set_objective('min', picos.sum(C[i,j]*x[i,j] for i in range(2) for j in range(3)))\n",
    "\n",
    "P.solve(solver='glpk')\n",
    "\n",
    "print(\"Solucion optima:\")\n",
    "for i in range(2):\n",
    "    for j in range(3):\n",
    "        if x[i,j].value > 0.1:\n",
    "            print(f\"x[{i+1},{j+1}] = {x[i,j].value}\")\n",
    "print(f\"Costo total = {P.value}\")"
   ]
  },
  {
   "cell_type": "markdown",
   "metadata": {},
   "source": [
    "## Ejercicio 14"
   ]
  },
  {
   "cell_type": "code",
   "execution_count": 16,
   "metadata": {},
   "outputs": [
    {
     "name": "stdout",
     "output_type": "stream",
     "text": [
      "Solucion optima:\n",
      "x[1,5] = 600.0\n",
      "x[2,4] = 600.0\n",
      "x[2,5] = 400.0\n",
      "x[3,1] = 200.0\n",
      "x[3,2] = 600.0\n",
      "Costo total = 83000.0\n"
     ]
    }
   ],
   "source": [
    "P = picos.Problem()\n",
    "\n",
    "# Costos de produccion\n",
    "C = np.array([\n",
    "    [31, 29, 32, 28, 20],  # Producto 1\n",
    "    [45, 41, 46, 42, 43],  # Producto 2\n",
    "    [38, 35, 40, 1000, 1000]  # Producto 3 (no se puede en plantas 4,5)\n",
    "])\n",
    "\n",
    "# Capacidades y demandas\n",
    "capacidad = [400, 600, 400, 600, 1000]\n",
    "demanda = [600, 1000, 800]\n",
    "\n",
    "# Variables\n",
    "x = picos.RealVariable('x', (3,5))\n",
    "\n",
    "# Restricciones de capacidad\n",
    "for j in range(5):\n",
    "    P.add_constraint(picos.sum(x[i,j] for i in range(3)) <= capacidad[j])\n",
    "\n",
    "# Restricciones de demanda\n",
    "for i in range(3):\n",
    "    P.add_constraint(picos.sum(x[i,j] for j in range(5)) == demanda[i])\n",
    "\n",
    "# No negatividad\n",
    "P.add_constraint(x >= 0)\n",
    "\n",
    "# Funcion objetivo\n",
    "P.set_objective('min', picos.sum(C[i,j]*x[i,j] for i in range(3) for j in range(5)))\n",
    "\n",
    "P.solve(solver='glpk')\n",
    "\n",
    "print(\"Solucion optima:\")\n",
    "for i in range(3):\n",
    "    for j in range(5):\n",
    "        if x[i,j].value > 0.1:\n",
    "            print(f\"x[{i+1},{j+1}] = {x[i,j].value}\")\n",
    "print(f\"Costo total = {P.value}\")"
   ]
  },
  {
   "cell_type": "markdown",
   "metadata": {},
   "source": [
    "## Ejercicio 15"
   ]
  },
  {
   "cell_type": "code",
   "execution_count": 17,
   "metadata": {},
   "outputs": [
    {
     "name": "stdout",
     "output_type": "stream",
     "text": [
      "Produccion regular: [10.0, 8.0, 10.0]\n",
      "Produccion extra: [1.0, 2.0, 3.0]\n",
      "Inventario: [3.0, 3.0, 0.0]\n",
      "Costo total = 1190.0\n"
     ]
    }
   ],
   "source": [
    "P = picos.Problem()\n",
    "\n",
    "# Variables: produccion regular, extra e inventario por mes\n",
    "p = picos.RealVariable('p', 3)  # produccion regular\n",
    "e = picos.RealVariable('e', 3)  # produccion extra\n",
    "s = picos.RealVariable('s', 3)  # inventario\n",
    "\n",
    "# Capacidades y costos\n",
    "cap_reg = [10, 8, 10]\n",
    "cap_extra = [3, 2, 3]\n",
    "costo_reg = [31, 32, 36]\n",
    "costo_extra = [38, 38, 44]\n",
    "costo_inv = 3\n",
    "ventas = [8, 10, 16]\n",
    "\n",
    "# Restricciones de capacidad\n",
    "for i in range(3):\n",
    "    P.add_constraint(p[i] <= cap_reg[i])\n",
    "    P.add_constraint(e[i] <= cap_extra[i])\n",
    "\n",
    "# Restricciones de balance de inventario\n",
    "P.add_constraint(p[0] + e[0] - s[0] == ventas[0])  # mes 1\n",
    "P.add_constraint(s[0] + p[1] + e[1] - s[1] == ventas[1])  # mes 2\n",
    "P.add_constraint(s[1] + p[2] + e[2] - s[2] == ventas[2])  # mes 3\n",
    "\n",
    "# No negatividad\n",
    "P.add_constraint(p >= 0)\n",
    "P.add_constraint(e >= 0)\n",
    "P.add_constraint(s >= 0)\n",
    "\n",
    "# Funcion objetivo\n",
    "P.set_objective('min', picos.sum(costo_reg[i]*p[i] + costo_extra[i]*e[i] for i in range(3)) + \n",
    "                costo_inv*(picos.sum(s[i] for i in range(2))))\n",
    "\n",
    "P.solve(solver='glpk')\n",
    "print(f\"Produccion regular: {[p[i].value for i in range(3)]}\")\n",
    "print(f\"Produccion extra: {[e[i].value for i in range(3)]}\")\n",
    "print(f\"Inventario: {[s[i].value for i in range(3)]}\")\n",
    "print(f\"Costo total = {P.value}\")"
   ]
  },
  {
   "cell_type": "markdown",
   "metadata": {},
   "source": [
    "## Ejercicio 16"
   ]
  },
  {
   "cell_type": "code",
   "execution_count": 18,
   "metadata": {},
   "outputs": [
    {
     "name": "stdout",
     "output_type": "stream",
     "text": [
      "Solucion optima:\n",
      "Planta a Warehouse:\n",
      "x[1,1] = 125.0\n",
      "x[1,2] = 75.0\n",
      "x[2,1] = 175.0\n",
      "x[2,2] = 75.0\n",
      "Warehouse a Local:\n",
      "y[1,1] = 100.0\n",
      "y[1,2] = 150.0\n",
      "y[1,3] = 50.0\n",
      "y[2,3] = 150.0\n",
      "Costo total = 295875.0\n"
     ]
    }
   ],
   "source": [
    "P = picos.Problem()\n",
    "\n",
    "# Costos de transporte planta-warehouse y warehouse-local\n",
    "c_planta_warehouse = np.array([\n",
    "    [425, 560],  # Planta 1\n",
    "    [510, 600]   # Planta 2\n",
    "])\n",
    "\n",
    "c_warehouse_local = np.array([\n",
    "    [100, 150, 200],  # Warehouse 1\n",
    "    [120, 180, 160]   # Warehouse 2\n",
    "])\n",
    "\n",
    "# Capacidades\n",
    "cap_planta = [200, 300]\n",
    "cap_warehouse = [125, 150, 175, 200]  # [w1_planta1, w1_planta2, w2_planta1, w2_planta2]\n",
    "demanda = [100, 150, 200]  # locales\n",
    "\n",
    "# Variables\n",
    "x = picos.RealVariable('x', (2,2))  # planta a warehouse\n",
    "y = picos.RealVariable('y', (2,3))  # warehouse a local\n",
    "\n",
    "# Restricciones de capacidad de plantas\n",
    "for i in range(2):\n",
    "    P.add_constraint(picos.sum(x[i,j] for j in range(2)) <= cap_planta[i])\n",
    "\n",
    "# Restricciones de capacidad de warehouses\n",
    "P.add_constraint(x[0,0] <= 125)  # planta 1 a warehouse 1\n",
    "P.add_constraint(x[1,0] <= 175)  # planta 2 a warehouse 1\n",
    "P.add_constraint(x[0,1] <= 150)  # planta 1 a warehouse 2\n",
    "P.add_constraint(x[1,1] <= 200)  # planta 2 a warehouse 2\n",
    "\n",
    "# Restricciones de balance en warehouses\n",
    "for j in range(2):\n",
    "    P.add_constraint(picos.sum(x[i,j] for i in range(2)) == picos.sum(y[j,k] for k in range(3)))\n",
    "\n",
    "# Restricciones de demanda\n",
    "for k in range(3):\n",
    "    P.add_constraint(picos.sum(y[j,k] for j in range(2)) == demanda[k])\n",
    "\n",
    "# No negatividad\n",
    "P.add_constraint(x >= 0)\n",
    "P.add_constraint(y >= 0)\n",
    "\n",
    "# Funcion objetivo\n",
    "P.set_objective('min', picos.sum(c_planta_warehouse[i,j]*x[i,j] for i in range(2) for j in range(2)) +\n",
    "                picos.sum(c_warehouse_local[j,k]*y[j,k] for j in range(2) for k in range(3)))\n",
    "\n",
    "P.solve(solver='glpk')\n",
    "\n",
    "print(\"Solucion optima:\")\n",
    "print(\"Planta a Warehouse:\")\n",
    "for i in range(2):\n",
    "    for j in range(2):\n",
    "        if x[i,j].value > 0.1:\n",
    "            print(f\"x[{i+1},{j+1}] = {x[i,j].value}\")\n",
    "print(\"Warehouse a Local:\")\n",
    "for j in range(2):\n",
    "    for k in range(3):\n",
    "        if y[j,k].value > 0.1:\n",
    "            print(f\"y[{j+1},{k+1}] = {y[j,k].value}\")\n",
    "print(f\"Costo total = {P.value}\")"
   ]
  },
  {
   "cell_type": "markdown",
   "metadata": {},
   "source": [
    "## Ejercicio 17"
   ]
  },
  {
   "cell_type": "code",
   "execution_count": 19,
   "metadata": {},
   "outputs": [
    {
     "name": "stdout",
     "output_type": "stream",
     "text": [
      "Flujo maximo:\n",
      "f('A', 'B') = 6.0\n",
      "f('A', 'C') = 7.0\n",
      "f('B', 'C') = 2.0\n",
      "f('B', 'D') = 7.0\n",
      "f('C', 'B') = 3.0\n",
      "f('C', 'E') = 6.0\n",
      "f('D', 'F') = 6.0\n",
      "f('D', 'E') = 1.0\n",
      "f('E', 'F') = 7.0\n",
      "Flujo maximo total = 13.0\n"
     ]
    }
   ],
   "source": [
    "P = picos.Problem()\n",
    "\n",
    "# Capacidades de los arcos\n",
    "capacidades = {\n",
    "    ('A','B'): 9, ('A','C'): 7, ('B','C'): 2, ('B','D'): 7,\n",
    "    ('C','B'): 4, ('C','E'): 6, ('D','F'): 6, ('D','E'): 3, ('E','F'): 9\n",
    "}\n",
    "\n",
    "# Variables de flujo\n",
    "f = {}\n",
    "for arco in capacidades:\n",
    "    f[arco] = picos.RealVariable(f'f_{arco[0]}{arco[1]}')\n",
    "\n",
    "# Restricciones de capacidad\n",
    "for arco, cap in capacidades.items():\n",
    "    P.add_constraint(f[arco] <= cap)\n",
    "    P.add_constraint(f[arco] >= 0)\n",
    "\n",
    "# Restricciones de conservacion de flujo\n",
    "# Nodo A (origen)\n",
    "P.add_constraint(f[('A','B')] + f[('A','C')] == picos.sum(f[('B','C')] + f[('C','B')] + f[('D','E')] + f[('E','F')]))\n",
    "\n",
    "# Nodo B\n",
    "P.add_constraint(f[('A','B')] + f[('C','B')] == f[('B','C')] + f[('B','D')])\n",
    "\n",
    "# Nodo C\n",
    "P.add_constraint(f[('A','C')] + f[('B','C')] == f[('C','B')] + f[('C','E')])\n",
    "\n",
    "# Nodo D\n",
    "P.add_constraint(f[('B','D')] == f[('D','F')] + f[('D','E')])\n",
    "\n",
    "# Nodo E\n",
    "P.add_constraint(f[('C','E')] + f[('D','E')] == f[('E','F')])\n",
    "\n",
    "# Nodo F (destino)\n",
    "P.add_constraint(f[('D','F')] + f[('E','F')] == f[('A','B')] + f[('A','C')])\n",
    "\n",
    "# Funcion objetivo: maximizar flujo desde A\n",
    "P.set_objective('max', f[('A','B')] + f[('A','C')])\n",
    "\n",
    "P.solve(solver='glpk')\n",
    "\n",
    "print(\"Flujo maximo:\")\n",
    "for arco in capacidades:\n",
    "    if f[arco].value > 0.1:\n",
    "        print(f\"f{arco} = {f[arco].value}\")\n",
    "print(f\"Flujo maximo total = {P.value}\")"
   ]
  }
 ],
 "metadata": {
  "kernelspec": {
   "display_name": "env",
   "language": "python",
   "name": "python3"
  },
  "language_info": {
   "codemirror_mode": {
    "name": "ipython",
    "version": 3
   },
   "file_extension": ".py",
   "mimetype": "text/x-python",
   "name": "python",
   "nbconvert_exporter": "python",
   "pygments_lexer": "ipython3",
   "version": "3.13.5"
  }
 },
 "nbformat": 4,
 "nbformat_minor": 4
}
