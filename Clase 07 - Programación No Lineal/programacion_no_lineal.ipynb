{
  "cells": [
    {
      "cell_type": "markdown",
      "metadata": {
        "id": "qBwqIK7YpYGK"
      },
      "source": [
        "# No Lineal"
      ]
    },
    {
      "cell_type": "markdown",
      "metadata": {
        "id": "b9Un3B6kzGqr"
      },
      "source": [
        "## Ejemplo 1: Asignación de presupuesto"
      ]
    },
    {
      "cell_type": "code",
      "execution_count": 1,
      "metadata": {
        "colab": {
          "base_uri": "https://localhost:8080/"
        },
        "id": "oVy5YLiDuGmb",
        "outputId": "42fb0e4d-00bc-4aa3-828a-913f6c05e4f6"
      },
      "outputs": [
        {
          "name": "stdout",
          "output_type": "stream",
          "text": [
            "Inversion optima en Google Ads: $5000.00\n",
            "Inversion optima en Instagram Ads: $3000.00\n",
            "Impacto total maximo: 180.00\n",
            "Total invertido: $8000.00\n"
          ]
        }
      ],
      "source": [
        "import numpy as np\n",
        "from scipy.optimize import minimize\n",
        "\n",
        "def impacto_negativo(x):\n",
        "    x1, x2 = x\n",
        "    return -(100 * (1 - np.exp(-0.05 * x1)) + 80 * (1 - np.exp(-0.08 * x2)))\n",
        "\n",
        "restricciones = [\n",
        "    {'type': 'ineq', 'fun': lambda x: 10000 - (x[0] + x[1])},\n",
        "    {'type': 'ineq', 'fun': lambda x: x[0] - 2000},\n",
        "    {'type': 'ineq', 'fun': lambda x: x[1] - 1000}\n",
        "]\n",
        "\n",
        "bounds = [(2000, None), (1000, None)]\n",
        "\n",
        "x0 = [5000, 3000]\n",
        "\n",
        "res = minimize(impacto_negativo, x0, method='SLSQP', bounds=bounds, constraints=restricciones)\n",
        "\n",
        "if res.success:\n",
        "    x1_opt, x2_opt = res.x\n",
        "    impacto_max = -res.fun\n",
        "    print(f'Inversion optima en Google Ads: ${x1_opt:.2f}')\n",
        "    print(f'Inversion optima en Instagram Ads: ${x2_opt:.2f}')\n",
        "    print(f'Impacto total maximo: {impacto_max:.2f}')\n",
        "    print(f'Total invertido: ${x1_opt + x2_opt:.2f}')\n",
        "else:\n",
        "    print('Error:', res.message)"
      ]
    },
    {
      "cell_type": "markdown",
      "metadata": {
        "id": "CK2WiVOPzKfR"
      },
      "source": [
        "## Ejemplo 2: Producción óptima de dos productos"
      ]
    },
    {
      "cell_type": "code",
      "execution_count": 2,
      "metadata": {
        "colab": {
          "base_uri": "https://localhost:8080/",
          "height": 598
        },
        "id": "lGJr6q0av27v",
        "outputId": "8a25e043-5ade-49c5-84bc-ad22a45e093e"
      },
      "outputs": [
        {
          "name": "stdout",
          "output_type": "stream",
          "text": [
            "Produccion optima de A: 40.00 unidades\n",
            "Produccion optima de B: 30.00 unidades\n",
            "Ganancia maxima: $2500.00\n"
          ]
        }
      ],
      "source": [
        "# Funcion objetivo (negativa para maximizar)\n",
        "def ganancia_negativa(x):\n",
        "    x1, x2 = x\n",
        "    return -(40 * x1 + 30 * x2)\n",
        "\n",
        "# Restriccion 1: x1^2 + x2^2 <= 2500\n",
        "def restriccion_maquina(x):\n",
        "    return 2500 - (x[0]**2 + x[1]**2)\n",
        "\n",
        "# Restriccion 2: x1 / (x2 + 1) <= 4\n",
        "def restriccion_compatibilidad(x):\n",
        "    return 4 * (x[1] + 1) - x[0]\n",
        "\n",
        "# Lista de restricciones\n",
        "restricciones = [\n",
        "    {'type': 'ineq', 'fun': restriccion_maquina},\n",
        "    {'type': 'ineq', 'fun': restriccion_compatibilidad}\n",
        "]\n",
        "\n",
        "# Limites (x1, x2 >= 0)\n",
        "bounds = [(0, None), (0, None)]\n",
        "\n",
        "# Valor inicial factible\n",
        "x0 = [1, 1]\n",
        "\n",
        "# Optimizacion\n",
        "from scipy.optimize import minimize\n",
        "res = minimize(ganancia_negativa, x0, method='SLSQP', bounds=bounds, constraints=restricciones)\n",
        "\n",
        "# Mostrar resultado\n",
        "if res.success:\n",
        "    x1_opt, x2_opt = res.x\n",
        "    ganancia_max = -res.fun\n",
        "    print(f'Produccion optima de A: {x1_opt:.2f} unidades')\n",
        "    print(f'Produccion optima de B: {x2_opt:.2f} unidades')\n",
        "    print(f'Ganancia maxima: ${ganancia_max:.2f}')\n",
        "else:\n",
        "    print('Error:', res.message)"
      ]
    },
    {
      "cell_type": "markdown",
      "metadata": {
        "id": "KsWkDnvLzMZk"
      },
      "source": [
        "## Ejemplo 3: Optimización en biotecnología"
      ]
    },
    {
      "cell_type": "code",
      "execution_count": 3,
      "metadata": {
        "id": "YL5nxChApYGO",
        "outputId": "ed1fadd8-dce8-45ba-acf4-321d2636f257"
      },
      "outputs": [
        {
          "name": "stdout",
          "output_type": "stream",
          "text": [
            "Mejor solucion encontrada: x1 = 1.4701, x2 = 3.0409\n",
            "Costo minimo estimado: 24.4612\n"
          ]
        }
      ],
      "source": [
        "import numpy as np\n",
        "from scipy.optimize import minimize\n",
        "\n",
        "def costo(x):\n",
        "    x1, x2 = x\n",
        "    return np.sin(x1) * np.cos(x2) + 0.1 * (x1 + x2) + 25\n",
        "\n",
        "restricciones = [\n",
        "    {'type': 'ineq', 'fun': lambda x: x[0] + x[1] - 2},\n",
        "    {'type': 'ineq', 'fun': lambda x: 8 - (x[0] + 2 * x[1])}\n",
        "]\n",
        "\n",
        "bounds = [(0, 6), (0, 6)]\n",
        "\n",
        "np.random.seed(42)\n",
        "resultados = []\n",
        "for i in range(10):\n",
        "    x0 = np.random.uniform(0, 6, size=2)\n",
        "    res = minimize(costo, x0, method='SLSQP', bounds=bounds, constraints=restricciones)\n",
        "    if res.success:\n",
        "        resultados.append((res.fun, res.x))\n",
        "\n",
        "resultados.sort()\n",
        "mejor_valor, mejor_x = resultados[0]\n",
        "print(f'Mejor solucion encontrada: x1 = {mejor_x[0]:.4f}, x2 = {mejor_x[1]:.4f}')\n",
        "print(f'Costo minimo estimado: {mejor_valor:.4f}')"
      ]
    },
    {
      "cell_type": "markdown",
      "metadata": {
        "id": "-aYasokKpYGP"
      },
      "source": [
        "# Multiobjetivo"
      ]
    },
    {
      "cell_type": "markdown",
      "metadata": {
        "id": "gUbAZaN3pYGP"
      },
      "source": [
        "## Ejemplo 0"
      ]
    },
    {
      "cell_type": "code",
      "execution_count": 9,
      "metadata": {
        "id": "u_chfDNrpYGP",
        "outputId": "2eeb583d-b8b5-42ad-9d47-f53631e3a871"
      },
      "outputs": [
        {
          "data": {
            "image/png": "[encoded data removed]",
            "text/plain": [
              "<Figure size 640x480 with 1 Axes>"
            ]
          },
          "metadata": {},
          "output_type": "display_data"
        }
      ],
      "source": [
        "import numpy as np\n",
        "from scipy.optimize import minimize\n",
        "import matplotlib.pyplot as plt\n",
        "\n",
        "# --------------------\n",
        "# Funciones objetivo\n",
        "# --------------------\n",
        "def f1(x):\n",
        "    return -(0.1*x[0] + 0.15*x[1])  # retorno a maximizar -> invertimos\n",
        "def f2(x):\n",
        "    return 0.05*x[0]**2 + 0.1*x[1]**2  # riesgo a minimizar\n",
        "\n",
        "# --------------------\n",
        "# Restricciones\n",
        "# --------------------\n",
        "def constraint_sum(x):\n",
        "    return 100 - (x[0] + x[1])  # x[0]+x[1] <= 100\n",
        "\n",
        "cons = ({'type': 'ineq', 'fun': constraint_sum},)\n",
        "\n",
        "# --------------------\n",
        "# Bounds\n",
        "# --------------------\n",
        "bounds = [(10,100),(5,100)]\n",
        "\n",
        "# --------------------\n",
        "# Normalización inicial (para ponderación)\n",
        "# --------------------\n",
        "# Puntos iniciales para estimar min/max\n",
        "initial_points = [[10,5],[50,30],[80,15],[20,70],[60,20]]\n",
        "f1_vals = np.array([f1(x) for x in initial_points])\n",
        "f2_vals = np.array([f2(x) for x in initial_points])\n",
        "f1_min, f1_max = f1_vals.min(), f1_vals.max()\n",
        "f2_min, f2_max = f2_vals.min(), f2_vals.max()\n",
        "\n",
        "# --------------------\n",
        "# Generar frente de Pareto con distintos alphas\n",
        "# --------------------\n",
        "alphas = np.linspace(0,1,11)\n",
        "pareto_points = []\n",
        "\n",
        "for alpha in alphas:\n",
        "    def weighted(x):\n",
        "        f1_val = f1(x)\n",
        "        f2_val = f2(x)\n",
        "        f1_norm = (f1_val - f1_min)/(f1_max - f1_min) if f1_max!=f1_min else 0\n",
        "        f2_norm = (f2_val - f2_min)/(f2_max - f2_min) if f2_max!=f2_min else 0\n",
        "        return alpha*f1_norm + (1-alpha)*f2_norm\n",
        "\n",
        "    x0 = [50, 25]  # punto inicial factible\n",
        "    res = minimize(weighted, x0=x0, bounds=bounds, constraints=cons, method='SLSQP')\n",
        "    if res.success:\n",
        "        pareto_points.append([res.x[0], res.x[1], -f1(res.x), f2(res.x)])\n",
        "\n",
        "pareto_points = np.array(pareto_points)\n",
        "\n",
        "# --------------------\n",
        "# Graficar\n",
        "# --------------------\n",
        "plt.scatter(pareto_points[:,2], pareto_points[:,3], c='red', label='Frente de Pareto')\n",
        "plt.xlabel(\"Retorno\")\n",
        "plt.ylabel(\"Riesgo\")\n",
        "plt.title(\"Frente de Pareto: Inversión A y B\")\n",
        "plt.legend()\n",
        "plt.show()"
      ]
    },
    {
      "cell_type": "markdown",
      "metadata": {
        "id": "kkGoKZn7pYGQ"
      },
      "source": [
        "## Ejemplo 1: Producción con objetivos conflictivos"
      ]
    },
    {
      "cell_type": "code",
      "execution_count": 5,
      "metadata": {
        "colab": {
          "base_uri": "https://localhost:8080/"
        },
        "id": "SDZKxiiUpYGQ",
        "outputId": "f40997f1-afc3-44db-8987-1aac585af5da"
      },
      "outputs": [
        {
          "name": "stdout",
          "output_type": "stream",
          "text": [
            "Frente de Pareto:\n",
            "Ganancia | Contaminacion | x1 | x2 | w1 | w2\n",
            "1138.6 | 632.4 | 22.2 | 8.3 | 0.1 | 0.9\n",
            "3738.1 | 6819.7 | 73.8 | 26.2 | 0.3 | 0.7\n",
            "3833.3 | 7500.0 | 83.3 | 16.7 | 0.5 | 0.5\n",
            "3950.0 | 9075.0 | 95.0 | 5.0 | 0.7 | 0.3\n",
            "3950.0 | 9075.0 | 95.0 | 5.0 | 0.9 | 0.1\n"
          ]
        }
      ],
      "source": [
        "import numpy as np\n",
        "import matplotlib.pyplot as plt\n",
        "from scipy.optimize import minimize\n",
        "\n",
        "def ganancia_negativa(x):\n",
        "    return -(40 * x[0] + 30 * x[1])\n",
        "\n",
        "def contaminacion(x):\n",
        "    return x[0]**2 + 2 * x[1]**2\n",
        "\n",
        "def objetivo_combinado(x, w1, w2):\n",
        "    ganancia_norm = ganancia_negativa(x) / 1000\n",
        "    contaminacion_norm = contaminacion(x) / 10000\n",
        "    return w1 * ganancia_norm + w2 * contaminacion_norm\n",
        "\n",
        "restricciones = [\n",
        "    {'type': 'ineq', 'fun': lambda x: 100 - (x[0] + x[1])},\n",
        "    {'type': 'ineq', 'fun': lambda x: x[0] - 10},\n",
        "    {'type': 'ineq', 'fun': lambda x: x[1] - 5}\n",
        "]\n",
        "\n",
        "bounds = [(10, None), (5, None)]\n",
        "x0 = [50, 30]\n",
        "\n",
        "pesos = [(0.1, 0.9), (0.3, 0.7), (0.5, 0.5), (0.7, 0.3), (0.9, 0.1)]\n",
        "resultados = []\n",
        "\n",
        "for w1, w2 in pesos:\n",
        "    res = minimize(lambda x: objetivo_combinado(x, w1, w2), x0,\n",
        "                   method='SLSQP', bounds=bounds, constraints=restricciones)\n",
        "    if res.success:\n",
        "        x1_opt, x2_opt = res.x\n",
        "        ganancia = -ganancia_negativa([x1_opt, x2_opt])\n",
        "        contam = contaminacion([x1_opt, x2_opt])\n",
        "        resultados.append((ganancia, contam, x1_opt, x2_opt, w1, w2))\n",
        "\n",
        "print(\"Frente de Pareto:\")\n",
        "print(\"Ganancia | Contaminacion | x1 | x2 | w1 | w2\")\n",
        "for gan, cont, x1, x2, w1, w2 in resultados:\n",
        "    print(f\"{gan:.1f} | {cont:.1f} | {x1:.1f} | {x2:.1f} | {w1:.1f} | {w2:.1f}\")"
      ]
    },
    {
      "cell_type": "markdown",
      "metadata": {
        "id": "cgLzqfFGpYGQ"
      },
      "source": [
        "## Ejemplo 2: Logística con tres objetivos"
      ]
    },
    {
      "cell_type": "code",
      "execution_count": 6,
      "metadata": {
        "colab": {
          "base_uri": "https://localhost:8080/"
        },
        "id": "7NYsxtf1pYGQ",
        "outputId": "daac74d5-a97b-4c33-fe7b-651730cbb532"
      },
      "outputs": [
        {
          "name": "stdout",
          "output_type": "stream",
          "text": [
            "Soluciones del frente de Pareto:\n",
            "Costo | Tiempo | Confiabilidad | x1 | x2 | x3\n",
            "100.0 | 150.0 | 47.50 | 0.0 | 0.0 | 50.0\n",
            "181.7 | 122.8 | 46.14 | 27.2 | 0.0 | 22.8\n",
            "100.0 | 150.0 | 47.50 | 0.0 | 0.0 | 50.0\n",
            "100.0 | 150.0 | 47.50 | 0.0 | 0.0 | 50.0\n"
          ]
        }
      ],
      "source": [
        "def costo(x):\n",
        "    return 5 * x[0] + 3 * x[1] + 2 * x[2]\n",
        "\n",
        "def tiempo(x):\n",
        "    return 2 * x[0] + 4 * x[1] + 3 * x[2]\n",
        "\n",
        "def confiabilidad_negativa(x):\n",
        "    return -(0.9 * x[0] + 0.8 * x[1] + 0.95 * x[2])\n",
        "\n",
        "def objetivo_combinado(x, w1, w2, w3):\n",
        "    costo_norm = costo(x) / 100\n",
        "    tiempo_norm = tiempo(x) / 100\n",
        "    conf_norm = confiabilidad_negativa(x) / 50\n",
        "    return w1 * costo_norm + w2 * tiempo_norm + w3 * conf_norm\n",
        "\n",
        "restricciones = [\n",
        "    {'type': 'eq', 'fun': lambda x: x[0] + x[1] + x[2] - 50}\n",
        "]\n",
        "\n",
        "bounds = [(0, None), (0, None), (0, None)]\n",
        "x0 = [20, 15, 15]\n",
        "\n",
        "pesos = [(0.6, 0.2, 0.2), (0.2, 0.6, 0.2), (0.2, 0.2, 0.6), (0.33, 0.33, 0.34)]\n",
        "resultados = []\n",
        "\n",
        "for w1, w2, w3 in pesos:\n",
        "    res = minimize(lambda x: objetivo_combinado(x, w1, w2, w3), x0,\n",
        "                   method='SLSQP', bounds=bounds, constraints=restricciones)\n",
        "    if res.success:\n",
        "        x1_opt, x2_opt, x3_opt = res.x\n",
        "        cost = costo([x1_opt, x2_opt, x3_opt])\n",
        "        time = tiempo([x1_opt, x2_opt, x3_opt])\n",
        "        conf = -confiabilidad_negativa([x1_opt, x2_opt, x3_opt])\n",
        "        resultados.append((cost, time, conf, x1_opt, x2_opt, x3_opt))\n",
        "\n",
        "print(\"Soluciones del frente de Pareto:\")\n",
        "print(\"Costo | Tiempo | Confiabilidad | x1 | x2 | x3\")\n",
        "for cost, time, conf, x1, x2, x3 in resultados:\n",
        "    print(f\"{cost:.1f} | {time:.1f} | {conf:.2f} | {x1:.1f} | {x2:.1f} | {x3:.1f}\")"
      ]
    },
    {
      "cell_type": "markdown",
      "metadata": {
        "id": "2TWO31EVpYGR"
      },
      "source": [
        "## Ejemplo 3: Inversión con riesgo y retorno"
      ]
    },
    {
      "cell_type": "code",
      "execution_count": 7,
      "metadata": {
        "colab": {
          "base_uri": "https://localhost:8080/"
        },
        "id": "f_LhlFgUu1fe",
        "outputId": "c897bac8-d60b-4e52-aaed-de39f2b7f718"
      },
      "outputs": [
        {
          "name": "stdout",
          "output_type": "stream",
          "text": [
            "Frente de Pareto - Inversión:\n",
            "w1  w2  | Retorno   | Riesgo      | x1       | x2       | x3\n",
            "0.1 0.9 | $    10442 |  545889450 | $  27727 | $  53232 | $  19040\n",
            "0.3 0.7 | $    10666 |  551924861 | $  29026 | $  49481 | $  21494\n",
            "0.5 0.5 | $    11050 |  578988764 | $  31873 | $  42772 | $  25356\n",
            "0.7 0.3 | $    11978 |  730512764 | $  36304 | $  27608 | $  36088\n",
            "0.9 0.1 | $    13788 | 1392283690 | $  40390 | $      0 | $  59610\n"
          ]
        }
      ],
      "source": [
        "import numpy as np\n",
        "from scipy.optimize import minimize\n",
        "\n",
        "def retorno_negativo(x):\n",
        "    # -(0.12 x1 + 0.08 x2 + 0.15 x3)\n",
        "    return -(0.12 * x[0] + 0.08 * x[1] + 0.15 * x[2])\n",
        "\n",
        "def riesgo(x):\n",
        "    # 0.2 x1^2 + 0.1 x2^2 + 0.3 x3^2\n",
        "    return 0.2 * x[0]**2 + 0.1 * x[1]**2 + 0.3 * x[2]**2\n",
        "\n",
        "# Gradientes analíticos\n",
        "def grad_retorno_negativo(_x):\n",
        "    # derivada de -(0.12, 0.08, 0.15)·x\n",
        "    return np.array([-0.12, -0.08, -0.15])\n",
        "\n",
        "def grad_riesgo(x):\n",
        "    # derivada de (0.2 x1^2, 0.1 x2^2, 0.3 x3^2)\n",
        "    return np.array([0.4*x[0], 0.2*x[1], 0.6*x[2]])\n",
        "\n",
        "def objetivo_combinado(x, w1, w2):\n",
        "\n",
        "    ret_neg_norm = retorno_negativo(x) / 1e4\n",
        "    riesgo_norm  = riesgo(x)          / 1e9\n",
        "    return w1 * ret_neg_norm + w2 * riesgo_norm\n",
        "\n",
        "def grad_objetivo_combinado(x, w1, w2):\n",
        "    g_ret  = grad_retorno_negativo(x) / 1e4\n",
        "    g_risk = grad_riesgo(x)           / 1e9\n",
        "    return w1 * g_ret + w2 * g_risk\n",
        "\n",
        "# -----------------------------\n",
        "# Restricción y cotas\n",
        "# -----------------------------\n",
        "presupuesto = 100_000.0\n",
        "restricciones = [{\n",
        "    'type': 'eq',\n",
        "    'fun': lambda x: x[0] + x[1] + x[2] - presupuesto,\n",
        "    'jac': lambda x: np.array([1.0, 1.0, 1.0])\n",
        "}]\n",
        "bounds = [(0.0, None), (0.0, None), (0.0, None)]\n",
        "\n",
        "# Punto inicial factible\n",
        "x0 = np.array([40_000.0, 30_000.0, 30_000.0])\n",
        "\n",
        "# -----------------------------\n",
        "# Barrido de pesos\n",
        "# -----------------------------\n",
        "pesos = [(0.1, 0.9), (0.3, 0.7), (0.5, 0.5), (0.7, 0.3), (0.9, 0.1)]\n",
        "resultados = []\n",
        "\n",
        "for w1, w2 in pesos:\n",
        "    res = minimize(\n",
        "        fun=lambda x: objetivo_combinado(x, w1, w2),\n",
        "        x0=x0,\n",
        "        method='SLSQP',\n",
        "        jac=lambda x: grad_objetivo_combinado(x, w1, w2),\n",
        "        bounds=bounds,\n",
        "        constraints=restricciones,\n",
        "        options={'disp': False, 'ftol': 1e-12, 'maxiter': 2000}\n",
        "    )\n",
        "    if not res.success:\n",
        "        print(f\"Falló para (w1,w2)=({w1},{w2}):\", res.message)\n",
        "        continue\n",
        "\n",
        "    x1, x2, x3 = res.x\n",
        "    ret  = -(0.12*x1 + 0.08*x2 + 0.15*x3)\n",
        "    risk =  0.2*x1**2 + 0.1*x2**2 + 0.3*x3**2\n",
        "    resultados.append((w1, w2, -ret, risk, x1, x2, x3))\n",
        "\n",
        "print(\"Frente de Pareto - Inversión:\")\n",
        "print(\"w1  w2  | Retorno   | Riesgo      | x1       | x2       | x3\")\n",
        "for w1, w2, ret, risk, x1, x2, x3 in resultados:\n",
        "    print(f\"{w1:.1f} {w2:.1f} | ${ret:9.0f} | {risk:10.0f} | ${x1:7.0f} | ${x2:7.0f} | ${x3:7.0f}\")\n"
      ]
    }
  ],
  "metadata": {
    "colab": {
      "provenance": []
    },
    "kernelspec": {
      "display_name": "env",
      "language": "python",
      "name": "python3"
    },
    "language_info": {
      "codemirror_mode": {
        "name": "ipython",
        "version": 3
      },
      "file_extension": ".py",
      "mimetype": "text/x-python",
      "name": "python",
      "nbconvert_exporter": "python",
      "pygments_lexer": "ipython3",
      "version": "3.13.5"
    }
  },
  "nbformat": 4,
  "nbformat_minor": 0
}
