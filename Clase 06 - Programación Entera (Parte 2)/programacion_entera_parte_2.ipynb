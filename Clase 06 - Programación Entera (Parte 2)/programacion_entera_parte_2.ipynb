{
 "cells": [
  {
   "cell_type": "code",
   "execution_count": 1,
   "id": "d3aa6932",
   "metadata": {},
   "outputs": [],
   "source": [
    "!pip install picos numpy swiglpk ipykernel --quiet"
   ]
  },
  {
   "cell_type": "code",
   "execution_count": 2,
   "id": "38733acd",
   "metadata": {},
   "outputs": [],
   "source": [
    "import picos\n",
    "import numpy as np"
   ]
  },
  {
   "cell_type": "markdown",
   "id": "6f30a1b2",
   "metadata": {},
   "source": [
    "## Planificación de Producción"
   ]
  },
  {
   "cell_type": "code",
   "execution_count": 5,
   "id": "8f8f2f09",
   "metadata": {},
   "outputs": [
    {
     "name": "stdout",
     "output_type": "stream",
     "text": [
      "Produccion diurna:\n",
      " [[2000.]\n",
      " [   0.]]\n",
      "Produccion nocturna:\n",
      " [[5000.]\n",
      " [3000.]]\n",
      "Turnos diurnos activados:\n",
      " [1, 0]\n",
      "Turnos nocturnos activados:\n",
      " [1, 1]\n",
      "Inventario final en cada periodo:\n",
      " [[   0.]\n",
      " [2000.]\n",
      " [   0.]]\n",
      "Costo total: 19000.0\n"
     ]
    }
   ],
   "source": [
    "import picos\n",
    "import numpy as np\n",
    "\n",
    "# Datos\n",
    "costo_diurno = 8000\n",
    "costo_nocturno = 4500\n",
    "demanda = [2000, 3000, 2000, 3000]  # D1, N1, D2, N2\n",
    "costo_almacenaje = 1\n",
    "\n",
    "# Variables\n",
    "P = picos.Problem()\n",
    "\n",
    "# Variables binarias: si se produce en cada turno\n",
    "y_d = picos.BinaryVariable('y_d', 2)  # diurno (dia 1 y dia 2)\n",
    "y_n = picos.BinaryVariable('y_n', 2)  # nocturno (noche 1 y noche 2)\n",
    "\n",
    "# Variables de produccion (cuantas unidades se producen en cada turno)\n",
    "x_d = picos.RealVariable('x_d', 2, lower=0)\n",
    "x_n = picos.RealVariable('x_n', 2, lower=0)\n",
    "\n",
    "# Variables de inventario (cuanto se almacena al final de cada periodo, 3 momentos)\n",
    "s = picos.RealVariable('s', 3, lower=0)\n",
    "\n",
    "# Objetivo: costos fijos de produccion + costos de almacenaje\n",
    "P.set_objective('min',\n",
    "    costo_diurno * picos.sum(y_d) +\n",
    "    costo_nocturno * picos.sum(y_n) +\n",
    "    costo_almacenaje * picos.sum(s)\n",
    ")\n",
    "\n",
    "# Restricciones de produccion solo si se activa el turno\n",
    "tipo_M = 10000\n",
    "for i in range(2):\n",
    "    P.add_constraint(x_d[i] <= tipo_M * y_d[i])\n",
    "    P.add_constraint(x_n[i] <= tipo_M * y_n[i])\n",
    "\n",
    "# Balance de inventario\n",
    "# Periodo 0: D1\n",
    "P.add_constraint(x_d[0] - demanda[0] == s[0])\n",
    "# Periodo 1: N1\n",
    "P.add_constraint(x_n[0] + s[0] - demanda[1] == s[1])\n",
    "# Periodo 2: D2\n",
    "P.add_constraint(x_d[1] + s[1] - demanda[2] == s[2])\n",
    "# Periodo 3: N2\n",
    "P.add_constraint(x_n[1] + s[2] - demanda[3] == 0)\n",
    "\n",
    "P.solve(solver='glpk')\n",
    "print('Produccion diurna:\\n', np.round(x_d.value, 2))\n",
    "print('Produccion nocturna:\\n', np.round(x_n.value, 2))\n",
    "print('Turnos diurnos activados:\\n', [int(round(y_d[i].value)) for i in range(2)])\n",
    "print('Turnos nocturnos activados:\\n', [int(round(y_n[i].value)) for i in range(2)])\n",
    "print('Inventario final en cada periodo:\\n', np.round(s.value, 2))\n",
    "print('Costo total:', round(P.value, 2))"
   ]
  },
  {
   "cell_type": "markdown",
   "id": "99828569",
   "metadata": {},
   "source": [
    "## Planificación Eléctrica"
   ]
  },
  {
   "cell_type": "code",
   "execution_count": 3,
   "id": "90e2bf19",
   "metadata": {},
   "outputs": [
    {
     "name": "stdout",
     "output_type": "stream",
     "text": [
      "[ 7.00e+01  5.00e+01  7.00e+01  7.00e+01  7.00e+01]\n",
      "[ 1.00e+01  5.00e+01  5.00e+01  5.00e+01  5.00e+01]\n",
      "[ 0.00e+00  0.00e+00  0.00e+00  0.00e+00  0.00e+00]\n",
      "[ 0.00e+00  0.00e+00  0.00e+00  2.00e+01  4.00e+01]\n",
      "62.7\n"
     ]
    }
   ],
   "source": [
    "# ---- Datos ----\n",
    "demand = picos.Constant('demanda',  [80, 100, 120, 140, 160])\n",
    "limits  = picos.Constant('cap',     [70, 50, 60, 40])\n",
    "c       = picos.Constant('c',       [20, 16, 18, 14])\n",
    "o       = picos.Constant('o',       [1.5, 0.8, 1.3, 0.6])\n",
    "\n",
    "# ---- Variables ----\n",
    "T, P = 5, 4                      # anios, plantas\n",
    "x = picos.RealVariable('x',  (P, T), lower=0)\n",
    "alfa = picos.BinaryVariable('alfa', (P, T))\n",
    "y = picos.BinaryVariable('y', P)\n",
    "\n",
    "p = picos.Problem()\n",
    "\n",
    "# ---- Restricciones ----\n",
    "# (R1) Demanda anual\n",
    "for j in range(T):\n",
    "    p.add_constraint(picos.sum(x[:, j]) >= demand[j])\n",
    "\n",
    "# (R2) Capacidad de planta\n",
    "for i in range(P):\n",
    "    p.add_constraint(picos.sum(x[i, :]) <= 1e4*y[i])\n",
    "\n",
    "    for j in range(T):\n",
    "        p.add_constraint(x[i, j] <= 1e4*alfa[i, j])\n",
    "        p.add_constraint(x[i, j] - limits[i] <= 1e4*(1-alfa[i, j]))\n",
    "\n",
    "# (R3) Permanencia\n",
    "for i in range(P):\n",
    "    for j in range(T-1):\n",
    "        p.add_constraint(alfa[i, j+1] >= alfa[i, j])\n",
    "\n",
    "# (R4) Operacion implica construccion\n",
    "for i in range(P):\n",
    "    for j in range(T):\n",
    "        p.add_constraint(alfa[i, j] <= y[i])\n",
    "\n",
    "# ---- Objetivo ----\n",
    "p.set_objective('min', c[0]*y[0] + c[1]*y[1] + c[2]*y[2] + c[3]*y[3] +\n",
    "                     o[0]*picos.sum(alfa[0, :]) + o[1]*picos.sum(alfa[1, :]) +\n",
    "                     o[2]*picos.sum(alfa[2, :]) + o[3]*picos.sum(alfa[3, :]))\n",
    "\n",
    "# ---- Solve ----\n",
    "p.options.verbosity = 0\n",
    "p.solve(solver='glpk')\n",
    "\n",
    "print(x)           # energia generada\n",
    "print(p.value)     # costo total minimo"
   ]
  }
 ],
 "metadata": {
  "kernelspec": {
   "display_name": "env",
   "language": "python",
   "name": "python3"
  },
  "language_info": {
   "codemirror_mode": {
    "name": "ipython",
    "version": 3
   },
   "file_extension": ".py",
   "mimetype": "text/x-python",
   "name": "python",
   "nbconvert_exporter": "python",
   "pygments_lexer": "ipython3",
   "version": "3.13.5"
  }
 },
 "nbformat": 4,
 "nbformat_minor": 5
}
