{
 "cells": [
  {
   "cell_type": "code",
   "execution_count": 11,
   "id": "e39151ef",
   "metadata": {},
   "outputs": [],
   "source": [
    "!pip install picos numpy swiglpk ipykernel --quiet"
   ]
  },
  {
   "cell_type": "code",
   "execution_count": 12,
   "id": "06f1d8cf",
   "metadata": {},
   "outputs": [],
   "source": [
    "import picos\n",
    "import numpy as np"
   ]
  },
  {
   "cell_type": "markdown",
   "id": "5f01cf52",
   "metadata": {},
   "source": [
    "## Problema de inversión"
   ]
  },
  {
   "cell_type": "code",
   "execution_count": 13,
   "id": "4d0253d5",
   "metadata": {},
   "outputs": [
    {
     "name": "stdout",
     "output_type": "stream",
     "text": [
      "[ 1.00e+00]\n",
      "[ 0.00e+00]\n",
      "[ 1.00e+00]\n",
      "[ 0.00e+00]\n",
      "[ 1.00e+00]\n",
      "[ 0.00e+00]\n",
      "40.0\n"
     ]
    }
   ],
   "source": [
    "# Crear el problema\n",
    "P = picos.Problem()\n",
    "\n",
    "# Variables binarias (una por inversion)\n",
    "y = picos.BinaryVariable('y', 6)\n",
    "\n",
    "# Funcion objetivo\n",
    "P.set_objective('max', 15*y[0] + 12*y[1] + 16*y[2] + 18*y[3] + 9*y[4] + 11*y[5])\n",
    "\n",
    "# Restricciones\n",
    "P.add_constraint(38*y[0] + 33*y[1] + 39*y[2] + 45*y[3] + 23*y[4] + 27*y[5] <= 100)\n",
    "P.add_constraint(y[0] + y[1] <= 1)  # inversiones 1 y 2 excluyentes\n",
    "P.add_constraint(y[2] + y[3] <= 1)  # inversiones 3 y 4 excluyentes\n",
    "P.add_constraint(y[2] <= y[0] + y[1])  # precedencia\n",
    "P.add_constraint(y[3] <= y[0] + y[1])  # precedencia\n",
    "\n",
    "# Resolver\n",
    "P.options.verbosity = 0\n",
    "P.solve(solver='glpk')\n",
    "\n",
    "print(y)          # valores optimos de las variables\n",
    "print(P.value)    # ganancia total optima"
   ]
  },
  {
   "cell_type": "markdown",
   "id": "f0ae2127",
   "metadata": {},
   "source": [
    "## Plantas y Productos"
   ]
  },
  {
   "cell_type": "code",
   "execution_count": null,
   "id": "ef8860b4",
   "metadata": {},
   "outputs": [
    {
     "name": "stdout",
     "output_type": "stream",
     "text": [
      "--- Modelo de transporte (división permitida) ---\n",
      "Asignación continua (x):\n",
      "[[ 0. 30. 30.  0.]\n",
      " [ 0.  0.  0. 15.]\n",
      " [20.  0.  0. 25.]]\n",
      "Costo total: 3260.0\n",
      "--- Modelo de asignación binaria (sin división) ---\n",
      "Asignación binaria (y):\n",
      "[[0 1 1 0]\n",
      " [1 0 0 0]\n",
      " [0 0 0 1]]\n",
      "Costo total: 3290.0\n"
     ]
    }
   ],
   "source": [
    "import picos\n",
    "import numpy as np\n",
    "\n",
    "# ---- Datos ----\n",
    "costos = np.array([\n",
    "    [41, 27, 28, 24],\n",
    "    [40, 29, 1e6, 23],  # 1e6 (1000000) es un costo prohibitivo para producto 3 en planta 2\n",
    "    [37, 30, 27, 21]\n",
    "])\n",
    "capacidades = [75, 75, 45]\n",
    "demanda = [20, 30, 30, 40]\n",
    "\n",
    "plantas, productos = 3, 4\n",
    "\n",
    "# ---- a) Permitir división (modelo de transporte) ----\n",
    "P = picos.Problem()\n",
    "x = picos.RealVariable('x', (plantas, productos), lower=0)\n",
    "\n",
    "# Objetivo\n",
    "P.set_objective('min', picos.sum([\n",
    "    costos[i, j] * x[i, j]\n",
    "    for i in range(plantas)\n",
    "    for j in range(productos)\n",
    "]))\n",
    "\n",
    "# Restricciones de capacidad\n",
    "for i in range(plantas):\n",
    "    P.add_constraint(picos.sum(x[i, :]) <= capacidades[i])\n",
    "\n",
    "# Restricciones de demanda\n",
    "for j in range(productos):\n",
    "    P.add_constraint(picos.sum(x[:, j]) == demanda[j])\n",
    "\n",
    "P.solve(solver='glpk')\n",
    "print('--- Modelo de transporte (división permitida) ---')\n",
    "print(\"Asignación continua (x):\")\n",
    "print(np.round(x.value, 2))\n",
    "print(\"Costo total:\", round(P.value, 2))\n",
    "\n",
    "# ---- b) No permitir división (modelo de asignación binaria) ----\n",
    "costos_lista = costos.tolist()  # conversion segura para picos\n",
    "demanda_lista = list(demanda)\n",
    "\n",
    "P2 = picos.Problem()\n",
    "y = picos.BinaryVariable('y', (plantas, productos))\n",
    "\n",
    "# Objetivo\n",
    "P2.set_objective('min', picos.sum([\n",
    "    costos_lista[i][j] * demanda_lista[j] * y[i, j]\n",
    "    for i in range(plantas)\n",
    "    for j in range(productos)\n",
    "]))\n",
    "\n",
    "# Cada producto se fabrica en una sola planta\n",
    "for j in range(productos):\n",
    "    P2.add_constraint(picos.sum([y[i, j] for i in range(plantas)]) == 1)\n",
    "\n",
    "# Restricciones de capacidad\n",
    "for i in range(plantas):\n",
    "    P2.add_constraint(picos.sum([\n",
    "        y[i, j] * demanda_lista[j]\n",
    "        for j in range(productos)\n",
    "    ]) <= capacidades[i])\n",
    "\n",
    "P2.solve(solver='glpk')\n",
    "print('--- Modelo de asignación binaria (sin división) ---')\n",
    "print(\"Asignación binaria (y):\")\n",
    "asignacion = np.array([[int(round(y[i, j].value)) for j in range(productos)] for i in range(plantas)])\n",
    "print(asignacion)\n",
    "print(\"Costo total:\", round(P2.value, 2))"
   ]
  },
  {
   "cell_type": "markdown",
   "id": "97d59640",
   "metadata": {},
   "source": [
    "## Estaciones de Bomberos"
   ]
  },
  {
   "cell_type": "code",
   "execution_count": 4,
   "id": "19ad8bf6",
   "metadata": {},
   "outputs": [
    {
     "name": "stdout",
     "output_type": "stream",
     "text": [
      "Asignacion (x):\n",
      "[[0 0 0 0 0]\n",
      " [0 0 0 0 0]\n",
      " [0 1 1 0 0]\n",
      " [0 0 0 0 0]\n",
      " [1 0 0 1 1]]\n",
      "Estaciones ubicadas (y):\n",
      "[0 0 1 0 1]\n",
      "Tiempo total ponderado: 85.0\n"
     ]
    }
   ],
   "source": [
    "import picos\n",
    "import numpy as np\n",
    "\n",
    "# Matriz de tiempos de respuesta\n",
    "tiempos = np.array([\n",
    "    [5, 12, 30, 20, 15],\n",
    "    [20, 4, 15, 10, 25],\n",
    "    [15, 20, 6, 15, 12],\n",
    "    [25, 15, 25, 4, 10],\n",
    "    [10, 25, 15, 12, 5]\n",
    "])\n",
    "\n",
    "frecuencias = np.array([2, 1, 3, 1, 3])\n",
    "sectores = 5\n",
    "\n",
    "P = picos.Problem()\n",
    "\n",
    "# Variables binarias\n",
    "y = picos.BinaryVariable('y', sectores)  # y[i]: 1 si hay estacion en sector i\n",
    "x = picos.BinaryVariable('x', (sectores, sectores))  # x[i,j]: 1 si sector j es atendido por estacion en i\n",
    "\n",
    "# Objetivo: minimizar tiempo de respuesta ponderado por frecuencia\n",
    "P.set_objective('min', picos.sum([\n",
    "    tiempos[i, j] * x[i, j] * frecuencias[j]\n",
    "    for i in range(sectores)\n",
    "    for j in range(sectores)\n",
    "]))\n",
    "\n",
    "# Restriccion: cada sector es atendido por una sola estacion\n",
    "for j in range(sectores):\n",
    "    P.add_constraint(picos.sum([x[i, j] for i in range(sectores)]) == 1)\n",
    "\n",
    "# Restriccion: solo puede atender si hay estacion en i\n",
    "for i in range(sectores):\n",
    "    for j in range(sectores):\n",
    "        P.add_constraint(x[i, j] <= y[i])\n",
    "\n",
    "# Restriccion: exactamente dos estaciones\n",
    "P.add_constraint(picos.sum(y) == 2)\n",
    "\n",
    "P.solve(solver='glpk')\n",
    "print('Asignacion (x):')\n",
    "print(np.array([[int(round(x[i, j].value)) for j in range(sectores)] for i in range(sectores)]))\n",
    "print('Estaciones ubicadas (y):')\n",
    "print(np.array([int(round(y[i].value)) for i in range(sectores)]))\n",
    "print('Tiempo total ponderado:', round(P.value, 2))"
   ]
  }
 ],
 "metadata": {
  "kernelspec": {
   "display_name": "env",
   "language": "python",
   "name": "python3"
  },
  "language_info": {
   "codemirror_mode": {
    "name": "ipython",
    "version": 3
   },
   "file_extension": ".py",
   "mimetype": "text/x-python",
   "name": "python",
   "nbconvert_exporter": "python",
   "pygments_lexer": "ipython3",
   "version": "3.13.5"
  }
 },
 "nbformat": 4,
 "nbformat_minor": 5
}
